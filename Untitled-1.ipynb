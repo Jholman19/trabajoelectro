{
 "cells": [
  {
   "cell_type": "code",
   "execution_count": null,
   "metadata": {},
   "outputs": [],
   "source": [
    "/*\n",
    "\tCapítulo 18 de Arduino desde cero en Español.\n",
    "\tPrograma que utiliza el modulo sensor de campo magnetico KY-035 para mostrar\n",
    "\tmediante el monitor serial la intensidad de campo magnetico leido mediante \n",
    "        la entrada analogica A0. Si lee valores bajos o altos signfica campo detectado y lo\n",
    "\tindica escribiendo en el monitor serial.\n",
    "\n",
    "\tAutor: bitwiseAr  \n",
    "\n",
    "*/\n",
    "\n",
    "\n",
    "SENSOR interno; // variable para almacenar valor leido de A0\n",
    "\n",
    "configuración vacía(){\n",
    "  Serial.begin(9600); // inicializa comunicacion serie a 9600 bps\n",
    "  // entradas marcadas no requieren inicializacion\n",
    "}\n",
    "\n",
    "\n",
    "bucle vacío(){\n",
    "  SENSOR = lectura analógica (A0); // lee y almacena valor leido de entrada analogica A0\n",
    "  if (SENSOR < 450 || SENSOR > 600){ // valores bajos o altos implican campo detectado\n",
    "  Serial.print(\"Campo detectado: \"); // imprime leyenda si detecta campo\n",
    "  }\n",
    "  Serial.println(SENSOR); // imprime en monitor serial el valor leído\n",
    "  retraso (500); // demora de medio segundo\n",
    "}"
   ]
  }
 ],
 "metadata": {
  "language_info": {
   "name": "python"
  },
  "orig_nbformat": 4
 },
 "nbformat": 4,
 "nbformat_minor": 2
}
